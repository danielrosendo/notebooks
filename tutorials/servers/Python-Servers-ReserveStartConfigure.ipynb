{
  "cells": [
    {
      "cell_type": "markdown",
      "metadata": {
        "id": "view-in-github",
        "colab_type": "text"
      },
      "source": [
        "<a href=\"https://colab.research.google.com/github/danielrosendo/notebooks/blob/main/tutorials/servers/Python-Servers-ReserveStartConfigure.ipynb\" target=\"_parent\"><img src=\"https://colab.research.google.com/assets/colab-badge.svg\" alt=\"Open In Colab\"/></a>"
      ]
    },
    {
      "cell_type": "markdown",
      "source": [
        "   \n",
        "<div class=\"alert alert-info\">\n",
        "\n",
        "**Note:**    WARNING: This notebook uses a new, early release Chameleon python API. The notebook and API will likely be updated without notice. To request a new python feature, please create a help desk ticket. \n",
        "    \n",
        "\n",
        "</div>"
      ],
      "metadata": {
        "id": "WuAR7Q0rf55g"
      }
    },
    {
      "cell_type": "code",
      "source": [
        "!nvidia-smi"
      ],
      "metadata": {
        "id": "6GFUYTDLggYq",
        "outputId": "5852cf31-2c5f-4de1-c331-d27296986041",
        "colab": {
          "base_uri": "https://localhost:8080/"
        }
      },
      "execution_count": 1,
      "outputs": [
        {
          "output_type": "stream",
          "name": "stdout",
          "text": [
            "Fri Aug 12 19:22:39 2022       \n",
            "+-----------------------------------------------------------------------------+\n",
            "| NVIDIA-SMI 460.32.03    Driver Version: 460.32.03    CUDA Version: 11.2     |\n",
            "|-------------------------------+----------------------+----------------------+\n",
            "| GPU  Name        Persistence-M| Bus-Id        Disp.A | Volatile Uncorr. ECC |\n",
            "| Fan  Temp  Perf  Pwr:Usage/Cap|         Memory-Usage | GPU-Util  Compute M. |\n",
            "|                               |                      |               MIG M. |\n",
            "|===============================+======================+======================|\n",
            "|   0  Tesla T4            Off  | 00000000:00:04.0 Off |                    0 |\n",
            "| N/A   39C    P8     9W /  70W |      0MiB / 15109MiB |      0%      Default |\n",
            "|                               |                      |                  N/A |\n",
            "+-------------------------------+----------------------+----------------------+\n",
            "                                                                               \n",
            "+-----------------------------------------------------------------------------+\n",
            "| Processes:                                                                  |\n",
            "|  GPU   GI   CI        PID   Type   Process name                  GPU Memory |\n",
            "|        ID   ID                                                   Usage      |\n",
            "|=============================================================================|\n",
            "|  No running processes found                                                 |\n",
            "+-----------------------------------------------------------------------------+\n"
          ]
        }
      ]
    },
    {
      "cell_type": "markdown",
      "source": [
        "   \n",
        "## Reserve and Start a Server\n",
        "\n",
        "Reserve and Start a Server\n",
        "\n",
        "#### Modules \n",
        "\n",
        "- [Reserve Mulitple Resources](../modules-python/reservations/reserve_multiple_resources.ipynb)\n",
        "- [Get Lease by Name](../modules-python/reservations/get_lease_by_name.ipynb)\n",
        "- [Get Reservation](../modules-python/reservations/get_reservations_from_lease.ipynb)\n",
        "- [Create Server](../modules-python/servers/create_server.ipynb)\n",
        "- [Delete Server](../modules-python/servers/delete_server.ipynb)\n",
        "\n",
        "TODO: add the rest of the module links when they are ready\n",
        "\n",
        "#### Import Library\n",
        "\n",
        "```\n",
        "import chi\n",
        "from chi.server_api_examples import *\n",
        "from chi.reservation_api_examples import *\n",
        "from chi.networking_api_examples import *\n",
        "```"
      ],
      "metadata": {
        "id": "qs__tGxGf55v"
      }
    },
    {
      "cell_type": "markdown",
      "source": [
        "## Tutorial: "
      ],
      "metadata": {
        "id": "8XOLskgSf55z"
      }
    },
    {
      "cell_type": "markdown",
      "source": [
        "#### Configure the Environment\n",
        "\n",
        "Import the chi example API calls, set the project name and region, and set various names and attributes to use in the tutorial. "
      ],
      "metadata": {
        "id": "h6EqEFKmf552"
      }
    },
    {
      "cell_type": "code",
      "execution_count": null,
      "source": [
        "import json\n",
        "import os\n",
        "import chi\n",
        "\n",
        "from chi.server_api_examples import *\n",
        "from chi.reservation_api_examples import *\n",
        "from chi.networking_api_examples import *\n",
        "\n",
        "#Config with your project\n",
        "chi.set('project_name', 'CICI SAFE') # Replace with your project name\n",
        "\n",
        "#Set the region\n",
        "chi.set('region_name', 'CHI@TACC')     # Optional, defaults to 'CHI@UC'\n",
        "\n",
        "#Insert keypair name\n",
        "key_name = 'pruth-jupyter'  # Change to your keypair\n",
        "key_path = '/home/pruth/work/pruth-jupyter' #path to your private key\n",
        "\n",
        "# Tip: Name resources with your username for easier identification\n",
        "username = os.getenv(\"USER\")\n",
        "server_name = username+'Server'\n",
        "network_name = 'sharednet1'\n",
        "stitched_network_name = network_name+\"Stitched\"\n",
        "lease_name_servers = username+'LeaseServers'\n",
        "\n",
        "\n",
        "#Server Config\n",
        "image_name='CC-CentOS7'\n",
        "flavor_name='baremetal'\n",
        "node_type=\"compute_skylake\"\n",
        "server_count=1\n"
      ],
      "outputs": [],
      "metadata": {
        "id": "5-HgcREhf554"
      }
    },
    {
      "cell_type": "markdown",
      "source": [
        "## Create the Servers"
      ],
      "metadata": {
        "id": "nylMytg7f558"
      }
    },
    {
      "cell_type": "code",
      "execution_count": null,
      "source": [
        "# Set start/end date for lease\n",
        "# Start one minute into future to avoid Blazar thinking lease is in past\n",
        "# due to rounding to closest minute.\n",
        "start_date = (datetime.now(tz=tz.tzutc()) + timedelta(minutes=1)).strftime(BLAZAR_TIME_FORMAT)\n",
        "end_date   = (datetime.now(tz=tz.tzutc()) + timedelta(days=1)).strftime(BLAZAR_TIME_FORMAT)\n",
        "\n",
        "# Build list of reservations (in this case there is only one reservation)\n",
        "reservation_list = []\n",
        "add_node_reservation(reservation_list, count=server_count, node_type=node_type)\n",
        "add_fip_reservation(reservation_list, count=1)\n",
        "\n",
        "# Create the lease\n",
        "chi.blazar().lease.create(name=lease_name_servers, \n",
        "                            start=start_date,\n",
        "                            end=end_date,\n",
        "                            reservations=reservation_list, events=[])\n",
        "\n",
        "#Get the lease by name\n",
        "server_lease = get_lease_by_name(lease_name_servers)\n",
        "    \n",
        "#Print the lease info\n",
        "print(json.dumps(server_lease, indent=2))"
      ],
      "outputs": [],
      "metadata": {
        "id": "hwK8KToUf55_"
      }
    },
    {
      "cell_type": "code",
      "execution_count": null,
      "source": [
        "#Get the lease by name\n",
        "server_lease = get_lease_by_name(lease_name_servers)\n",
        "\n",
        "compute_reservation_id = list(filter(lambda reservation: reservation['resource_type'] == 'physical:host', server_lease['reservations']))[0]['id']\n",
        "floatingip_reservation_id = list(filter(lambda reservation: reservation['resource_type'] == 'virtual:floatingip', server_lease['reservations']))[0]['id']\n",
        "\n",
        "print(\"compute_reservation_id: \" + compute_reservation_id)\n",
        "print(\"floatingip_reservation_id: \" + floatingip_reservation_id)"
      ],
      "outputs": [],
      "metadata": {
        "id": "fbih51dqf56E"
      }
    },
    {
      "cell_type": "markdown",
      "source": [
        "#### Start the Server\n",
        "\n",
        "Use the compute_reservation_id to [create the server](../modules-python/servers/create_server.ipynb)."
      ],
      "metadata": {
        "id": "ALqQlhzXf56G"
      }
    },
    {
      "cell_type": "code",
      "execution_count": null,
      "source": [
        "#create the server\n",
        "server = create_server(server_name, \n",
        "                       reservation_id=compute_reservation_id, \n",
        "                       key_name=key_name, \n",
        "                       network_name=network_name, \n",
        "                       image_name=image_name, \n",
        "                       flavor_name=flavor_name)\n"
      ],
      "outputs": [],
      "metadata": {
        "id": "U5q9l1nrf56I"
      }
    },
    {
      "cell_type": "markdown",
      "source": [
        "#### Associate the Floating IP   \n",
        "TODO: need to find floating_ip from the reservation that was just made"
      ],
      "metadata": {
        "id": "hAxFa_Mof56J"
      }
    },
    {
      "cell_type": "code",
      "execution_count": null,
      "source": [
        "floating_ip = associate_floating_ip(server_name)\n",
        "\n",
        "print('Floating IP: ' + str(floating_ip))"
      ],
      "outputs": [],
      "metadata": {
        "id": "oWU_Ts83f56K"
      }
    },
    {
      "cell_type": "markdown",
      "source": [
        "#### Configure Server"
      ],
      "metadata": {
        "id": "ecX3-oV0f56L"
      }
    },
    {
      "cell_type": "code",
      "execution_count": null,
      "source": [
        "script= '#!/bin/bash'   '\\n' \\\n",
        "    '{'   '\\n' \\\n",
        "    'yum install -y vim'   '\\n' \\\n",
        "    'echo Add Config Script Here!'  '\\n' \\\n",
        "    '} > /tmp/boot.log 2>&1'   '\\n' "
      ],
      "outputs": [],
      "metadata": {
        "id": "SucdlOV1f56M"
      }
    },
    {
      "cell_type": "code",
      "execution_count": null,
      "source": [
        "import paramiko \n",
        "\n",
        "key = paramiko.RSAKey.from_private_key_file(key_path)\n",
        "client = paramiko.SSHClient()\n",
        "client.load_system_host_keys()\n",
        "client.set_missing_host_key_policy(paramiko.MissingHostKeyPolicy())\n",
        "\n",
        "client.set_missing_host_key_policy(paramiko.AutoAddPolicy())\n",
        "client.connect(floating_ip,username='cc',pkey = key)\n",
        "\n",
        "stdin, stdout, stderr = client.exec_command('echo \\\"' + script + '\\\" > script.sh; chmod +x script.sh; sudo ./script.sh')\n",
        "print ('stdout: ' + str(stdout.read()))\n",
        "print ('stderr: ' + str(stderr.read()))\n",
        "\n",
        "client.close()\n",
        "print ('done!')"
      ],
      "outputs": [],
      "metadata": {
        "id": "S0aOc9UDf56N"
      }
    },
    {
      "cell_type": "markdown",
      "source": [
        "## Clean Up Resources"
      ],
      "metadata": {
        "id": "_9pT-Yn1f56O"
      }
    },
    {
      "cell_type": "markdown",
      "source": [
        "### Delete Resources\n",
        "\n",
        "[Delete the server](../modules-python/servers/delete_server.ipynb) using its name."
      ],
      "metadata": {
        "id": "K81Ekywdf56O"
      }
    },
    {
      "cell_type": "code",
      "execution_count": null,
      "source": [
        "delete_server_by_name(server_name)"
      ],
      "outputs": [],
      "metadata": {
        "id": "R99c-w2Lf56P"
      }
    },
    {
      "cell_type": "markdown",
      "source": [
        "#### Release Leases"
      ],
      "metadata": {
        "id": "Lq44FLk9f56P"
      }
    },
    {
      "cell_type": "code",
      "execution_count": null,
      "source": [
        "delete_lease_by_name(lease_name_servers)"
      ],
      "outputs": [],
      "metadata": {
        "id": "bMlQ3IIMf56Q"
      }
    },
    {
      "cell_type": "code",
      "execution_count": null,
      "source": [
        ""
      ],
      "outputs": [],
      "metadata": {
        "id": "2dRcNdDlf56R"
      }
    }
  ],
  "metadata": {
    "kernelspec": {
      "display_name": "Python 3",
      "language": "python",
      "name": "python3"
    },
    "language_info": {
      "codemirror_mode": {
        "name": "ipython",
        "version": 3
      },
      "file_extension": ".py",
      "mimetype": "text/x-python",
      "name": "python",
      "nbconvert_exporter": "python",
      "pygments_lexer": "ipython3",
      "version": "3.8.3"
    },
    "colab": {
      "name": "Python-Servers-ReserveStartConfigure.ipynb",
      "provenance": [],
      "include_colab_link": true
    },
    "accelerator": "GPU",
    "gpuClass": "standard"
  },
  "nbformat": 4,
  "nbformat_minor": 0
}