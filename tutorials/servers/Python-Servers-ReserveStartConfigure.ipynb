{
  "cells": [
    {
      "cell_type": "markdown",
      "metadata": {
        "id": "view-in-github",
        "colab_type": "text"
      },
      "source": [
        "<a href=\"https://colab.research.google.com/github/danielrosendo/notebooks/blob/main/tutorials/servers/Python-Servers-ReserveStartConfigure.ipynb\" target=\"_parent\"><img src=\"https://colab.research.google.com/assets/colab-badge.svg\" alt=\"Open In Colab\"/></a>"
      ]
    },
    {
      "cell_type": "markdown",
      "source": [
        "   \n",
        "<div class=\"alert alert-info\">\n",
        "\n",
        "**Note:**    WARNING: This notebook uses a new, early release Chameleon python API. The notebook and API will likely be updated without notice. To request a new python feature, please create a help desk ticket. \n",
        "    \n",
        "\n",
        "</div>"
      ],
      "metadata": {
        "id": "OxcT3JepDUHr"
      }
    },
    {
      "cell_type": "markdown",
      "source": [
        "   \n",
        "## Reserve and Start a Server (my example)\n",
        "\n",
        "Reserve and Start a Server\n",
        "\n",
        "#### Modules \n",
        "\n",
        "- [Reserve Mulitple Resources](../modules-python/reservations/reserve_multiple_resources.ipynb)\n",
        "- [Get Lease by Name](../modules-python/reservations/get_lease_by_name.ipynb)\n",
        "- [Get Reservation](../modules-python/reservations/get_reservations_from_lease.ipynb)\n",
        "- [Create Server](../modules-python/servers/create_server.ipynb)\n",
        "- [Delete Server](../modules-python/servers/delete_server.ipynb)\n",
        "\n",
        "TODO: add the rest of the module links when they are ready\n",
        "\n",
        "#### Import Library\n",
        "\n",
        "```\n",
        "import chi\n",
        "from chi.server_api_examples import *\n",
        "from chi.reservation_api_examples import *\n",
        "from chi.networking_api_examples import *\n",
        "```"
      ],
      "metadata": {
        "id": "5HKrMGlGDUHv"
      }
    },
    {
      "cell_type": "code",
      "source": [
        "!pip list"
      ],
      "metadata": {
        "id": "rb2yzwCIENRl",
        "outputId": "a1832cd0-8f42-4718-d9ec-b1fbcb3ab7e1",
        "colab": {
          "base_uri": "https://localhost:8080/"
        }
      },
      "execution_count": 3,
      "outputs": [
        {
          "output_type": "stream",
          "name": "stdout",
          "text": [
            "Package                       Version\n",
            "----------------------------- ----------------------------\n",
            "absl-py                       1.2.0\n",
            "aiohttp                       3.8.1\n",
            "aiosignal                     1.2.0\n",
            "alabaster                     0.7.12\n",
            "albumentations                1.2.1\n",
            "altair                        4.2.0\n",
            "appdirs                       1.4.4\n",
            "argon2-cffi                   21.3.0\n",
            "argon2-cffi-bindings          21.2.0\n",
            "arviz                         0.12.1\n",
            "astor                         0.8.1\n",
            "astropy                       4.3.1\n",
            "astunparse                    1.6.3\n",
            "async-timeout                 4.0.2\n",
            "asynctest                     0.13.0\n",
            "atari-py                      0.2.9\n",
            "atomicwrites                  1.4.1\n",
            "attrs                         22.1.0\n",
            "audioread                     2.1.9\n",
            "autograd                      1.4\n",
            "Babel                         2.10.3\n",
            "backcall                      0.2.0\n",
            "beautifulsoup4                4.6.3\n",
            "bleach                        5.0.1\n",
            "blis                          0.7.8\n",
            "bokeh                         2.3.3\n",
            "branca                        0.5.0\n",
            "bs4                           0.0.1\n",
            "CacheControl                  0.12.11\n",
            "cached-property               1.5.2\n",
            "cachetools                    4.2.4\n",
            "catalogue                     2.0.8\n",
            "certifi                       2022.6.15\n",
            "cffi                          1.15.1\n",
            "cftime                        1.6.1\n",
            "chardet                       3.0.4\n",
            "charset-normalizer            2.1.0\n",
            "click                         7.1.2\n",
            "clikit                        0.6.2\n",
            "cloudpickle                   1.3.0\n",
            "cmake                         3.22.6\n",
            "cmdstanpy                     1.0.4\n",
            "colorcet                      3.0.0\n",
            "colorlover                    0.3.0\n",
            "community                     1.0.0b1\n",
            "contextlib2                   0.5.5\n",
            "convertdate                   2.4.0\n",
            "crashtest                     0.3.1\n",
            "crcmod                        1.7\n",
            "cufflinks                     0.17.3\n",
            "cupy-cuda111                  9.4.0\n",
            "cvxopt                        1.3.0\n",
            "cvxpy                         1.2.1\n",
            "cycler                        0.11.0\n",
            "cymem                         2.0.6\n",
            "Cython                        0.29.32\n",
            "daft                          0.0.4\n",
            "dask                          2.12.0\n",
            "datascience                   0.17.5\n",
            "debugpy                       1.0.0\n",
            "decorator                     4.4.2\n",
            "defusedxml                    0.7.1\n",
            "deprecat                      2.1.1\n",
            "descartes                     1.1.0\n",
            "dill                          0.3.5.1\n",
            "distributed                   1.25.3\n",
            "dlib                          19.24.0\n",
            "dm-tree                       0.1.7\n",
            "docutils                      0.17.1\n",
            "dopamine-rl                   1.0.5\n",
            "earthengine-api               0.1.317\n",
            "easydict                      1.9\n",
            "ecos                          2.0.10\n",
            "editdistance                  0.5.3\n",
            "en-core-web-sm                3.4.0\n",
            "entrypoints                   0.4\n",
            "ephem                         4.1.3\n",
            "et-xmlfile                    1.1.0\n",
            "etils                         0.6.0\n",
            "fa2                           0.3.5\n",
            "fastai                        2.7.7\n",
            "fastcore                      1.5.13\n",
            "fastdownload                  0.0.7\n",
            "fastdtw                       0.3.4\n",
            "fastjsonschema                2.16.1\n",
            "fastprogress                  1.0.3\n",
            "fastrlock                     0.8\n",
            "feather-format                0.4.1\n",
            "filelock                      3.7.1\n",
            "firebase-admin                4.4.0\n",
            "fix-yahoo-finance             0.0.22\n",
            "Flask                         1.1.4\n",
            "flatbuffers                   2.0\n",
            "folium                        0.12.1.post1\n",
            "frozenlist                    1.3.0\n",
            "future                        0.16.0\n",
            "gast                          0.5.3\n",
            "GDAL                          2.2.2\n",
            "gdown                         4.4.0\n",
            "gensim                        3.6.0\n",
            "geographiclib                 1.52\n",
            "geopy                         1.17.0\n",
            "gin-config                    0.5.0\n",
            "glob2                         0.7\n",
            "google                        2.0.3\n",
            "google-api-core               1.31.6\n",
            "google-api-python-client      1.12.11\n",
            "google-auth                   1.35.0\n",
            "google-auth-httplib2          0.0.4\n",
            "google-auth-oauthlib          0.4.6\n",
            "google-cloud-bigquery         1.21.0\n",
            "google-cloud-bigquery-storage 1.1.2\n",
            "google-cloud-core             1.0.3\n",
            "google-cloud-datastore        1.8.0\n",
            "google-cloud-firestore        1.7.0\n",
            "google-cloud-language         1.2.0\n",
            "google-cloud-storage          1.18.1\n",
            "google-cloud-translate        1.5.0\n",
            "google-colab                  1.0.0\n",
            "google-pasta                  0.2.0\n",
            "google-resumable-media        0.4.1\n",
            "googleapis-common-protos      1.56.4\n",
            "googledrivedownloader         0.4\n",
            "graphviz                      0.10.1\n",
            "greenlet                      1.1.2\n",
            "grpcio                        1.47.0\n",
            "gspread                       3.4.2\n",
            "gspread-dataframe             3.0.8\n",
            "gym                           0.17.3\n",
            "h5py                          3.1.0\n",
            "HeapDict                      1.0.1\n",
            "hijri-converter               2.2.4\n",
            "holidays                      0.14.2\n",
            "holoviews                     1.14.9\n",
            "html5lib                      1.0.1\n",
            "httpimport                    0.5.18\n",
            "httplib2                      0.17.4\n",
            "httplib2shim                  0.0.3\n",
            "httpstan                      4.6.1\n",
            "humanize                      0.5.1\n",
            "hyperopt                      0.1.2\n",
            "idna                          2.10\n",
            "imageio                       2.9.0\n",
            "imagesize                     1.4.1\n",
            "imbalanced-learn              0.8.1\n",
            "imblearn                      0.0\n",
            "imgaug                        0.4.0\n",
            "importlib-metadata            4.12.0\n",
            "importlib-resources           5.9.0\n",
            "imutils                       0.5.4\n",
            "inflect                       2.1.0\n",
            "intel-openmp                  2022.1.0\n",
            "intervaltree                  2.1.0\n",
            "ipykernel                     4.10.1\n",
            "ipython                       5.5.0\n",
            "ipython-genutils              0.2.0\n",
            "ipython-sql                   0.3.9\n",
            "ipywidgets                    7.7.1\n",
            "itsdangerous                  1.1.0\n",
            "jax                           0.3.14\n",
            "jaxlib                        0.3.14+cuda11.cudnn805\n",
            "jedi                          0.18.1\n",
            "jieba                         0.42.1\n",
            "Jinja2                        2.11.3\n",
            "joblib                        1.1.0\n",
            "jpeg4py                       0.1.4\n",
            "jsonschema                    4.3.3\n",
            "jupyter                       1.0.0\n",
            "jupyter-client                5.3.5\n",
            "jupyter-console               5.2.0\n",
            "jupyter-core                  4.11.1\n",
            "jupyterlab-pygments           0.2.2\n",
            "jupyterlab-widgets            1.1.1\n",
            "kaggle                        1.5.12\n",
            "kapre                         0.3.7\n",
            "keras                         2.8.0\n",
            "Keras-Preprocessing           1.1.2\n",
            "keras-vis                     0.4.1\n",
            "kiwisolver                    1.4.4\n",
            "korean-lunar-calendar         0.2.1\n",
            "langcodes                     3.3.0\n",
            "libclang                      14.0.6\n",
            "librosa                       0.8.1\n",
            "lightgbm                      2.2.3\n",
            "llvmlite                      0.39.0\n",
            "lmdb                          0.99\n",
            "LunarCalendar                 0.0.9\n",
            "lxml                          4.9.1\n",
            "Markdown                      3.4.1\n",
            "MarkupSafe                    2.0.1\n",
            "marshmallow                   3.17.0\n",
            "matplotlib                    3.2.2\n",
            "matplotlib-inline             0.1.3\n",
            "matplotlib-venn               0.11.7\n",
            "missingno                     0.5.1\n",
            "mistune                       0.8.4\n",
            "mizani                        0.6.0\n",
            "mkl                           2019.0\n",
            "mlxtend                       0.14.0\n",
            "more-itertools                8.13.0\n",
            "moviepy                       0.2.3.5\n",
            "mpmath                        1.2.1\n",
            "msgpack                       1.0.4\n",
            "multidict                     6.0.2\n",
            "multitasking                  0.0.11\n",
            "murmurhash                    1.0.7\n",
            "music21                       5.5.0\n",
            "natsort                       5.5.0\n",
            "nbclient                      0.6.6\n",
            "nbconvert                     5.6.1\n",
            "nbformat                      5.4.0\n",
            "nest-asyncio                  1.5.5\n",
            "netCDF4                       1.6.0\n",
            "networkx                      2.6.3\n",
            "nibabel                       3.0.2\n",
            "nltk                          3.7\n",
            "notebook                      5.3.1\n",
            "numba                         0.56.0\n",
            "numexpr                       2.8.3\n",
            "numpy                         1.21.6\n",
            "oauth2client                  4.1.3\n",
            "oauthlib                      3.2.0\n",
            "okgrade                       0.4.3\n",
            "opencv-contrib-python         4.6.0.66\n",
            "opencv-python                 4.6.0.66\n",
            "opencv-python-headless        4.6.0.66\n",
            "openpyxl                      3.0.10\n",
            "opt-einsum                    3.3.0\n",
            "osqp                          0.6.2.post0\n",
            "packaging                     21.3\n",
            "palettable                    3.3.0\n",
            "pandas                        1.3.5\n",
            "pandas-datareader             0.9.0\n",
            "pandas-gbq                    0.13.3\n",
            "pandas-profiling              1.4.1\n",
            "pandocfilters                 1.5.0\n",
            "panel                         0.12.1\n",
            "param                         1.12.2\n",
            "parso                         0.8.3\n",
            "pastel                        0.2.1\n",
            "pathlib                       1.0.1\n",
            "pathy                         0.6.2\n",
            "patsy                         0.5.2\n",
            "pep517                        0.13.0\n",
            "pexpect                       4.8.0\n",
            "pickleshare                   0.7.5\n",
            "Pillow                        7.1.2\n",
            "pip                           21.1.3\n",
            "pip-tools                     6.2.0\n",
            "pkgutil-resolve-name          1.3.10\n",
            "plotly                        5.5.0\n",
            "plotnine                      0.6.0\n",
            "pluggy                        0.7.1\n",
            "pooch                         1.6.0\n",
            "portpicker                    1.3.9\n",
            "prefetch-generator            1.0.1\n",
            "preshed                       3.0.6\n",
            "prettytable                   3.3.0\n",
            "progressbar2                  3.38.0\n",
            "prometheus-client             0.14.1\n",
            "promise                       2.3\n",
            "prompt-toolkit                1.0.18\n",
            "prophet                       1.1\n",
            "protobuf                      3.17.3\n",
            "psutil                        5.4.8\n",
            "psycopg2                      2.9.3\n",
            "ptyprocess                    0.7.0\n",
            "py                            1.11.0\n",
            "pyarrow                       6.0.1\n",
            "pyasn1                        0.4.8\n",
            "pyasn1-modules                0.2.8\n",
            "pycocotools                   2.0.4\n",
            "pycparser                     2.21\n",
            "pyct                          0.4.8\n",
            "pydantic                      1.9.1\n",
            "pydata-google-auth            1.4.0\n",
            "pydot                         1.3.0\n",
            "pydot-ng                      2.0.0\n",
            "pydotplus                     2.0.2\n",
            "PyDrive                       1.3.1\n",
            "pyemd                         0.5.1\n",
            "pyerfa                        2.0.0.1\n",
            "pyglet                        1.5.0\n",
            "Pygments                      2.6.1\n",
            "pygobject                     3.26.1\n",
            "pylev                         1.4.0\n",
            "pymc3                         3.11.5\n",
            "PyMeeus                       0.5.11\n",
            "pymongo                       4.2.0\n",
            "pymystem3                     0.2.0\n",
            "PyOpenGL                      3.1.6\n",
            "pyparsing                     3.0.9\n",
            "pyrsistent                    0.18.1\n",
            "pysimdjson                    3.2.0\n",
            "pysndfile                     1.3.8\n",
            "PySocks                       1.7.1\n",
            "pystan                        3.3.0\n",
            "pytest                        3.6.4\n",
            "python-apt                    0.0.0\n",
            "python-chess                  0.23.11\n",
            "python-dateutil               2.8.2\n",
            "python-louvain                0.16\n",
            "python-slugify                6.1.2\n",
            "python-utils                  3.3.3\n",
            "pytz                          2022.1\n",
            "pyviz-comms                   2.2.0\n",
            "PyWavelets                    1.3.0\n",
            "PyYAML                        3.13\n",
            "pyzmq                         23.2.0\n",
            "qdldl                         0.1.5.post2\n",
            "qtconsole                     5.3.1\n",
            "QtPy                          2.1.0\n",
            "qudida                        0.0.4\n",
            "regex                         2022.6.2\n",
            "requests                      2.23.0\n",
            "requests-oauthlib             1.3.1\n",
            "resampy                       0.3.1\n",
            "rpy2                          3.4.5\n",
            "rsa                           4.9\n",
            "scikit-image                  0.18.3\n",
            "scikit-learn                  1.0.2\n",
            "scipy                         1.7.3\n",
            "screen-resolution-extra       0.0.0\n",
            "scs                           3.2.0\n",
            "seaborn                       0.11.2\n",
            "semver                        2.13.0\n",
            "Send2Trash                    1.8.0\n",
            "setuptools                    57.4.0\n",
            "setuptools-git                1.2\n",
            "Shapely                       1.8.2\n",
            "simplegeneric                 0.8.1\n",
            "six                           1.15.0\n",
            "sklearn                       0.0\n",
            "sklearn-pandas                1.8.0\n",
            "smart-open                    5.2.1\n",
            "snowballstemmer               2.2.0\n",
            "sortedcontainers              2.4.0\n",
            "SoundFile                     0.10.3.post1\n",
            "soupsieve                     2.3.2.post1\n",
            "spacy                         3.4.1\n",
            "spacy-legacy                  3.0.9\n",
            "spacy-loggers                 1.0.3\n",
            "Sphinx                        1.8.6\n",
            "sphinxcontrib-serializinghtml 1.1.5\n",
            "sphinxcontrib-websupport      1.2.4\n",
            "SQLAlchemy                    1.4.39\n",
            "sqlparse                      0.4.2\n",
            "srsly                         2.4.4\n",
            "statsmodels                   0.10.2\n",
            "sympy                         1.7.1\n",
            "tables                        3.7.0\n",
            "tabulate                      0.8.10\n",
            "tblib                         1.7.0\n",
            "tenacity                      8.0.1\n",
            "tensorboard                   2.8.0\n",
            "tensorboard-data-server       0.6.1\n",
            "tensorboard-plugin-wit        1.8.1\n",
            "tensorflow                    2.8.2+zzzcolab20220719082949\n",
            "tensorflow-datasets           4.6.0\n",
            "tensorflow-estimator          2.8.0\n",
            "tensorflow-gcs-config         2.8.0\n",
            "tensorflow-hub                0.12.0\n",
            "tensorflow-io-gcs-filesystem  0.26.0\n",
            "tensorflow-metadata           1.9.0\n",
            "tensorflow-probability        0.16.0\n",
            "termcolor                     1.1.0\n",
            "terminado                     0.13.3\n",
            "testpath                      0.6.0\n",
            "text-unidecode                1.3\n",
            "textblob                      0.15.3\n",
            "Theano-PyMC                   1.1.2\n",
            "thinc                         8.1.0\n",
            "threadpoolctl                 3.1.0\n",
            "tifffile                      2021.11.2\n",
            "tinycss2                      1.1.1\n",
            "toml                          0.10.2\n",
            "tomli                         2.0.1\n",
            "toolz                         0.12.0\n",
            "torch                         1.12.0+cu113\n",
            "torchaudio                    0.12.0+cu113\n",
            "torchsummary                  1.5.1\n",
            "torchtext                     0.13.0\n",
            "torchvision                   0.13.0+cu113\n",
            "tornado                       5.1.1\n",
            "tqdm                          4.64.0\n",
            "traitlets                     5.1.1\n",
            "tweepy                        3.10.0\n",
            "typeguard                     2.7.1\n",
            "typer                         0.4.2\n",
            "typing-extensions             4.1.1\n",
            "tzlocal                       1.5.1\n",
            "ujson                         5.4.0\n",
            "uritemplate                   3.0.1\n",
            "urllib3                       1.24.3\n",
            "vega-datasets                 0.9.0\n",
            "wasabi                        0.10.1\n",
            "wcwidth                       0.2.5\n",
            "webargs                       8.2.0\n",
            "webencodings                  0.5.1\n",
            "Werkzeug                      1.0.1\n",
            "wheel                         0.37.1\n",
            "widgetsnbextension            3.6.1\n",
            "wordcloud                     1.8.2.2\n",
            "wrapt                         1.14.1\n",
            "xarray                        0.20.2\n",
            "xarray-einstats               0.2.2\n",
            "xgboost                       0.90\n",
            "xkit                          0.0.0\n",
            "xlrd                          1.1.0\n",
            "xlwt                          1.3.0\n",
            "yarl                          1.8.1\n",
            "yellowbrick                   1.4\n",
            "zict                          2.2.0\n",
            "zipp                          3.8.1\n"
          ]
        }
      ]
    },
    {
      "cell_type": "markdown",
      "source": [
        "## Tutorial: "
      ],
      "metadata": {
        "id": "sF-bYeJHDUHw"
      }
    },
    {
      "cell_type": "markdown",
      "source": [
        "#### Configure the Environment\n",
        "\n",
        "Import the chi example API calls, set the project name and region, and set various names and attributes to use in the tutorial. "
      ],
      "metadata": {
        "id": "mTsc2eFgDUHx"
      }
    },
    {
      "cell_type": "code",
      "execution_count": null,
      "source": [
        "import json\n",
        "import os\n",
        "import chi\n",
        "\n",
        "from chi.server_api_examples import *\n",
        "from chi.reservation_api_examples import *\n",
        "from chi.networking_api_examples import *\n",
        "\n",
        "#Config with your project\n",
        "chi.set('project_name', 'CICI SAFE') # Replace with your project name\n",
        "\n",
        "#Set the region\n",
        "chi.set('region_name', 'CHI@TACC')     # Optional, defaults to 'CHI@UC'\n",
        "\n",
        "#Insert keypair name\n",
        "key_name = 'pruth-jupyter'  # Change to your keypair\n",
        "key_path = '/home/pruth/work/pruth-jupyter' #path to your private key\n",
        "\n",
        "# Tip: Name resources with your username for easier identification\n",
        "username = os.getenv(\"USER\")\n",
        "server_name = username+'Server'\n",
        "network_name = 'sharednet1'\n",
        "stitched_network_name = network_name+\"Stitched\"\n",
        "lease_name_servers = username+'LeaseServers'\n",
        "\n",
        "\n",
        "#Server Config\n",
        "image_name='CC-CentOS7'\n",
        "flavor_name='baremetal'\n",
        "node_type=\"compute_skylake\"\n",
        "server_count=1\n"
      ],
      "outputs": [],
      "metadata": {
        "id": "XnXQ6FywDUHx"
      }
    },
    {
      "cell_type": "markdown",
      "source": [
        "## Create the Servers"
      ],
      "metadata": {
        "id": "d9Es3lPzDUHz"
      }
    },
    {
      "cell_type": "code",
      "execution_count": null,
      "source": [
        "# Set start/end date for lease\n",
        "# Start one minute into future to avoid Blazar thinking lease is in past\n",
        "# due to rounding to closest minute.\n",
        "start_date = (datetime.now(tz=tz.tzutc()) + timedelta(minutes=1)).strftime(BLAZAR_TIME_FORMAT)\n",
        "end_date   = (datetime.now(tz=tz.tzutc()) + timedelta(days=1)).strftime(BLAZAR_TIME_FORMAT)\n",
        "\n",
        "# Build list of reservations (in this case there is only one reservation)\n",
        "reservation_list = []\n",
        "add_node_reservation(reservation_list, count=server_count, node_type=node_type)\n",
        "add_fip_reservation(reservation_list, count=1)\n",
        "\n",
        "# Create the lease\n",
        "chi.blazar().lease.create(name=lease_name_servers, \n",
        "                            start=start_date,\n",
        "                            end=end_date,\n",
        "                            reservations=reservation_list, events=[])\n",
        "\n",
        "#Get the lease by name\n",
        "server_lease = get_lease_by_name(lease_name_servers)\n",
        "    \n",
        "#Print the lease info\n",
        "print(json.dumps(server_lease, indent=2))"
      ],
      "outputs": [],
      "metadata": {
        "id": "_J7plwzQDUHz"
      }
    },
    {
      "cell_type": "code",
      "execution_count": null,
      "source": [
        "#Get the lease by name\n",
        "server_lease = get_lease_by_name(lease_name_servers)\n",
        "\n",
        "compute_reservation_id = list(filter(lambda reservation: reservation['resource_type'] == 'physical:host', server_lease['reservations']))[0]['id']\n",
        "floatingip_reservation_id = list(filter(lambda reservation: reservation['resource_type'] == 'virtual:floatingip', server_lease['reservations']))[0]['id']\n",
        "\n",
        "print(\"compute_reservation_id: \" + compute_reservation_id)\n",
        "print(\"floatingip_reservation_id: \" + floatingip_reservation_id)"
      ],
      "outputs": [],
      "metadata": {
        "id": "N_wJI1F3DUH0"
      }
    },
    {
      "cell_type": "markdown",
      "source": [
        "#### Start the Server\n",
        "\n",
        "Use the compute_reservation_id to [create the server](../modules-python/servers/create_server.ipynb)."
      ],
      "metadata": {
        "id": "CBSjdVmkDUH1"
      }
    },
    {
      "cell_type": "code",
      "execution_count": null,
      "source": [
        "#create the server\n",
        "server = create_server(server_name, \n",
        "                       reservation_id=compute_reservation_id, \n",
        "                       key_name=key_name, \n",
        "                       network_name=network_name, \n",
        "                       image_name=image_name, \n",
        "                       flavor_name=flavor_name)\n"
      ],
      "outputs": [],
      "metadata": {
        "id": "Ecew31_SDUH1"
      }
    },
    {
      "cell_type": "markdown",
      "source": [
        "#### Associate the Floating IP   \n",
        "TODO: need to find floating_ip from the reservation that was just made"
      ],
      "metadata": {
        "id": "uOnaJ0yMDUH2"
      }
    },
    {
      "cell_type": "code",
      "execution_count": null,
      "source": [
        "floating_ip = associate_floating_ip(server_name)\n",
        "\n",
        "print('Floating IP: ' + str(floating_ip))"
      ],
      "outputs": [],
      "metadata": {
        "id": "ouc06dyEDUH2"
      }
    },
    {
      "cell_type": "markdown",
      "source": [
        "#### Configure Server"
      ],
      "metadata": {
        "id": "O9ytLjUdDUH2"
      }
    },
    {
      "cell_type": "code",
      "execution_count": null,
      "source": [
        "script= '#!/bin/bash'   '\\n' \\\n",
        "    '{'   '\\n' \\\n",
        "    'yum install -y vim'   '\\n' \\\n",
        "    'echo Add Config Script Here!'  '\\n' \\\n",
        "    '} > /tmp/boot.log 2>&1'   '\\n' "
      ],
      "outputs": [],
      "metadata": {
        "id": "56eJpyc_DUH2"
      }
    },
    {
      "cell_type": "code",
      "execution_count": null,
      "source": [
        "import paramiko \n",
        "\n",
        "key = paramiko.RSAKey.from_private_key_file(key_path)\n",
        "client = paramiko.SSHClient()\n",
        "client.load_system_host_keys()\n",
        "client.set_missing_host_key_policy(paramiko.MissingHostKeyPolicy())\n",
        "\n",
        "client.set_missing_host_key_policy(paramiko.AutoAddPolicy())\n",
        "client.connect(floating_ip,username='cc',pkey = key)\n",
        "\n",
        "stdin, stdout, stderr = client.exec_command('echo \\\"' + script + '\\\" > script.sh; chmod +x script.sh; sudo ./script.sh')\n",
        "print ('stdout: ' + str(stdout.read()))\n",
        "print ('stderr: ' + str(stderr.read()))\n",
        "\n",
        "client.close()\n",
        "print ('done!')"
      ],
      "outputs": [],
      "metadata": {
        "id": "E0Qo3oJsDUH3"
      }
    },
    {
      "cell_type": "markdown",
      "source": [
        "## Clean Up Resources"
      ],
      "metadata": {
        "id": "14XgQMDwDUH3"
      }
    },
    {
      "cell_type": "markdown",
      "source": [
        "### Delete Resources\n",
        "\n",
        "[Delete the server](../modules-python/servers/delete_server.ipynb) using its name."
      ],
      "metadata": {
        "id": "LdfqwhUUDUH3"
      }
    },
    {
      "cell_type": "code",
      "execution_count": null,
      "source": [
        "delete_server_by_name(server_name)"
      ],
      "outputs": [],
      "metadata": {
        "id": "2FTwzKjjDUH3"
      }
    },
    {
      "cell_type": "markdown",
      "source": [
        "#### Release Leases"
      ],
      "metadata": {
        "id": "C2SC_j5_DUH4"
      }
    },
    {
      "cell_type": "code",
      "execution_count": null,
      "source": [
        "delete_lease_by_name(lease_name_servers)"
      ],
      "outputs": [],
      "metadata": {
        "id": "KM_qHAoBDUH4"
      }
    },
    {
      "cell_type": "code",
      "execution_count": null,
      "source": [
        ""
      ],
      "outputs": [],
      "metadata": {
        "id": "pjr37KXuDUH4"
      }
    }
  ],
  "metadata": {
    "kernelspec": {
      "display_name": "Python 3",
      "language": "python",
      "name": "python3"
    },
    "language_info": {
      "codemirror_mode": {
        "name": "ipython",
        "version": 3
      },
      "file_extension": ".py",
      "mimetype": "text/x-python",
      "name": "python",
      "nbconvert_exporter": "python",
      "pygments_lexer": "ipython3",
      "version": "3.8.3"
    },
    "colab": {
      "name": "Python-Servers-ReserveStartConfigure.ipynb",
      "provenance": [],
      "include_colab_link": true
    },
    "accelerator": "GPU",
    "gpuClass": "standard"
  },
  "nbformat": 4,
  "nbformat_minor": 0
}